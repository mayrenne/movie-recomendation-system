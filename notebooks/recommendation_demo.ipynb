{
  "nbformat": 4,
  "nbformat_minor": 0,
  "metadata": {
    "colab": {
      "provenance": []
    },
    "kernelspec": {
      "name": "python3",
      "display_name": "Python 3"
    },
    "language_info": {
      "name": "python"
    }
  },
  "cells": [
    {
      "cell_type": "code",
      "execution_count": null,
      "metadata": {
        "colab": {
          "base_uri": "https://localhost:8080/",
          "height": 393
        },
        "id": "M5sPT2iKbOow",
        "outputId": "e40c976a-983f-40dd-9980-d74ac2d80e0b"
      },
      "outputs": [
        {
          "output_type": "error",
          "ename": "ModuleNotFoundError",
          "evalue": "No module named 'src'",
          "traceback": [
            "\u001b[0;31m---------------------------------------------------------------------------\u001b[0m",
            "\u001b[0;31mModuleNotFoundError\u001b[0m                       Traceback (most recent call last)",
            "\u001b[0;32m/tmp/ipython-input-3192925003.py\u001b[0m in \u001b[0;36m<cell line: 0>\u001b[0;34m()\u001b[0m\n\u001b[1;32m      5\u001b[0m \u001b[0;32mimport\u001b[0m \u001b[0mmatplotlib\u001b[0m\u001b[0;34m.\u001b[0m\u001b[0mpyplot\u001b[0m \u001b[0;32mas\u001b[0m \u001b[0mplt\u001b[0m\u001b[0;34m\u001b[0m\u001b[0;34m\u001b[0m\u001b[0m\n\u001b[1;32m      6\u001b[0m \u001b[0;34m\u001b[0m\u001b[0m\n\u001b[0;32m----> 7\u001b[0;31m \u001b[0;32mfrom\u001b[0m \u001b[0msrc\u001b[0m\u001b[0;34m.\u001b[0m\u001b[0mutils\u001b[0m \u001b[0;32mimport\u001b[0m \u001b[0mload_movielens\u001b[0m\u001b[0;34m,\u001b[0m \u001b[0mmse\u001b[0m\u001b[0;34m\u001b[0m\u001b[0;34m\u001b[0m\u001b[0m\n\u001b[0m\u001b[1;32m      8\u001b[0m \u001b[0;32mfrom\u001b[0m \u001b[0msrc\u001b[0m\u001b[0;34m.\u001b[0m\u001b[0msvd_baseline\u001b[0m \u001b[0;32mimport\u001b[0m \u001b[0mevaluate_svd\u001b[0m\u001b[0;34m\u001b[0m\u001b[0;34m\u001b[0m\u001b[0m\n\u001b[1;32m      9\u001b[0m \u001b[0;32mfrom\u001b[0m \u001b[0msrc\u001b[0m\u001b[0;34m.\u001b[0m\u001b[0mmatrix_factorization\u001b[0m \u001b[0;32mimport\u001b[0m \u001b[0malternating_minimization\u001b[0m\u001b[0;34m\u001b[0m\u001b[0;34m\u001b[0m\u001b[0m\n",
            "\u001b[0;31mModuleNotFoundError\u001b[0m: No module named 'src'",
            "",
            "\u001b[0;31m---------------------------------------------------------------------------\u001b[0;32m\nNOTE: If your import is failing due to a missing package, you can\nmanually install dependencies using either !pip or !apt.\n\nTo view examples of installing some common dependencies, click the\n\"Open Examples\" button below.\n\u001b[0;31m---------------------------------------------------------------------------\u001b[0m\n"
          ],
          "errorDetails": {
            "actions": [
              {
                "action": "open_url",
                "actionText": "Open Examples",
                "url": "/notebooks/snippets/importing_libraries.ipynb"
              }
            ]
          }
        }
      ],
      "source": [
        "# 🎬 Movie Recommendation System Demo\n",
        "# Matrix Completion with SVD and Alternating Minimization\n",
        "\n",
        "import numpy as np\n",
        "import matplotlib.pyplot as plt\n",
        "\n",
        "from src.utils import load_movielens, mse\n",
        "from src.svd_baseline import evaluate_svd\n",
        "from src.matrix_factorization import alternating_minimization"
      ]
    },
    {
      "cell_type": "markdown",
      "source": [
        "load dataset"
      ],
      "metadata": {
        "id": "tFhHDNHtbjg-"
      }
    },
    {
      "cell_type": "code",
      "source": [
        "train, test, num_users, num_items = load_movielens(\"u.data\")\n",
        "\n",
        "print(f\"Training samples: {len(train)}\")\n",
        "print(f\"Test samples: {len(test)}\")\n",
        "print(f\"Users: {num_users}, Movies: {num_items}\")\n",
        "\n",
        "# Build R~ matrix with known entries\n",
        "r_twiddle = np.zeros((num_items, num_users))\n",
        "for user, movie, rating in train:\n",
        "    r_twiddle[movie, user] = rating\n"
      ],
      "metadata": {
        "colab": {
          "base_uri": "https://localhost:8080/",
          "height": 216
        },
        "id": "YYKfo7vobhVw",
        "outputId": "54b1fdee-a967-4b9d-fe7d-dd510ada6814"
      },
      "execution_count": null,
      "outputs": [
        {
          "output_type": "error",
          "ename": "NameError",
          "evalue": "name 'load_movielens' is not defined",
          "traceback": [
            "\u001b[0;31m---------------------------------------------------------------------------\u001b[0m",
            "\u001b[0;31mNameError\u001b[0m                                 Traceback (most recent call last)",
            "\u001b[0;32m/tmp/ipython-input-3758311807.py\u001b[0m in \u001b[0;36m<cell line: 0>\u001b[0;34m()\u001b[0m\n\u001b[0;32m----> 1\u001b[0;31m \u001b[0mtrain\u001b[0m\u001b[0;34m,\u001b[0m \u001b[0mtest\u001b[0m\u001b[0;34m,\u001b[0m \u001b[0mnum_users\u001b[0m\u001b[0;34m,\u001b[0m \u001b[0mnum_items\u001b[0m \u001b[0;34m=\u001b[0m \u001b[0mload_movielens\u001b[0m\u001b[0;34m(\u001b[0m\u001b[0;34m\"u.data\"\u001b[0m\u001b[0;34m)\u001b[0m\u001b[0;34m\u001b[0m\u001b[0;34m\u001b[0m\u001b[0m\n\u001b[0m\u001b[1;32m      2\u001b[0m \u001b[0;34m\u001b[0m\u001b[0m\n\u001b[1;32m      3\u001b[0m \u001b[0mprint\u001b[0m\u001b[0;34m(\u001b[0m\u001b[0;34mf\"Training samples: {len(train)}\"\u001b[0m\u001b[0;34m)\u001b[0m\u001b[0;34m\u001b[0m\u001b[0;34m\u001b[0m\u001b[0m\n\u001b[1;32m      4\u001b[0m \u001b[0mprint\u001b[0m\u001b[0;34m(\u001b[0m\u001b[0;34mf\"Test samples: {len(test)}\"\u001b[0m\u001b[0;34m)\u001b[0m\u001b[0;34m\u001b[0m\u001b[0;34m\u001b[0m\u001b[0m\n\u001b[1;32m      5\u001b[0m \u001b[0mprint\u001b[0m\u001b[0;34m(\u001b[0m\u001b[0;34mf\"Users: {num_users}, Movies: {num_items}\"\u001b[0m\u001b[0;34m)\u001b[0m\u001b[0;34m\u001b[0m\u001b[0;34m\u001b[0m\u001b[0m\n",
            "\u001b[0;31mNameError\u001b[0m: name 'load_movielens' is not defined"
          ]
        }
      ]
    },
    {
      "cell_type": "markdown",
      "source": [
        "Baseline: SVD Approximation"
      ],
      "metadata": {
        "id": "W9U7sYQjbrMO"
      }
    },
    {
      "cell_type": "code",
      "source": [
        "d_values = [1, 2, 5, 10, 20, 50]\n",
        "\n",
        "train_errors, test_errors = evaluate_svd(r_twiddle, train, test, d_values)\n",
        "\n",
        "plt.figure(figsize=(8,6))\n",
        "plt.plot(d_values, train_errors, marker='o', label=\"Train MSE\")\n",
        "plt.plot(d_values, test_errors, marker='s', label=\"Test MSE\")\n",
        "plt.title(\"SVD Approximation Error vs Rank d\")\n",
        "plt.xlabel(\"Rank d\")\n",
        "plt.ylabel(\"Mean Squared Error\")\n",
        "plt.legend()\n",
        "plt.grid(True)\n",
        "plt.show()\n"
      ],
      "metadata": {
        "id": "vjjNMDC0bvZ6"
      },
      "execution_count": null,
      "outputs": []
    },
    {
      "cell_type": "markdown",
      "source": [
        "Alternating Minimization"
      ],
      "metadata": {
        "id": "kjt7OzVSbxof"
      }
    },
    {
      "cell_type": "code",
      "source": [
        "train_errors_am, test_errors_am = [], []\n",
        "\n",
        "for d in d_values:\n",
        "    U, V = alternating_minimization(r_twiddle, d, l=10.0, delta=1e-2)\n",
        "    R_hat = U @ V.T\n",
        "    train_errors_am.append(mse(R_hat, train))\n",
        "    test_errors_am.append(mse(R_hat, test))\n",
        "\n",
        "plt.figure(figsize=(8,6))\n",
        "plt.plot(d_values, train_errors_am, marker='o', label=\"Train MSE (AltMin)\")\n",
        "plt.plot(d_values, test_errors_am, marker='s', label=\"Test MSE (AltMin)\")\n",
        "plt.title(\"Alternating Minimization Error vs Rank d\")\n",
        "plt.xlabel(\"Rank d\")\n",
        "plt.ylabel(\"Mean Squared Error\")\n",
        "plt.legend()\n",
        "plt.grid(True)\n",
        "plt.show()"
      ],
      "metadata": {
        "id": "w6Z690Rjbz8p"
      },
      "execution_count": null,
      "outputs": []
    },
    {
      "cell_type": "markdown",
      "source": [
        "Example Recommendations"
      ],
      "metadata": {
        "id": "uybc2MOJb3lK"
      }
    },
    {
      "cell_type": "code",
      "source": [
        "# Choose a random user\n",
        "user_id = np.random.randint(0, num_users)\n",
        "\n",
        "# Use best model (say d=20 from alternating minimization)\n",
        "U, V = alternating_minimization(r_twiddle, d=20, l=10.0, delta=1e-2)\n",
        "R_hat = U @ V.T\n",
        "\n",
        "# Predictions for chosen user\n",
        "user_ratings = R_hat[:, user_id]\n",
        "\n",
        "# Top recommended movies (ignoring already-rated ones)\n",
        "rated_movies = set(train[train[:,0] == user_id][:,1])\n",
        "recommendations = [(i, score) for i, score in enumerate(user_ratings) if i not in rated_movies]\n",
        "\n",
        "top_recs = sorted(recommendations, key=lambda x: -x[1])[:5]\n",
        "print(f\"Top recommendations for User {user_id}:\")\n",
        "for movie_id, score in top_recs:\n",
        "    print(f\"Movie {movie_id} | Predicted rating: {score:.2f}\")\n"
      ],
      "metadata": {
        "colab": {
          "base_uri": "https://localhost:8080/",
          "height": 216
        },
        "id": "htBJWEqjb6dR",
        "outputId": "8d1ec3f4-e5ad-4ad0-f3c8-5d2b2dea2442"
      },
      "execution_count": null,
      "outputs": [
        {
          "output_type": "error",
          "ename": "NameError",
          "evalue": "name 'num_users' is not defined",
          "traceback": [
            "\u001b[0;31m---------------------------------------------------------------------------\u001b[0m",
            "\u001b[0;31mNameError\u001b[0m                                 Traceback (most recent call last)",
            "\u001b[0;32m/tmp/ipython-input-3627502681.py\u001b[0m in \u001b[0;36m<cell line: 0>\u001b[0;34m()\u001b[0m\n\u001b[1;32m      1\u001b[0m \u001b[0;31m# Choose a random user\u001b[0m\u001b[0;34m\u001b[0m\u001b[0;34m\u001b[0m\u001b[0m\n\u001b[0;32m----> 2\u001b[0;31m \u001b[0muser_id\u001b[0m \u001b[0;34m=\u001b[0m \u001b[0mnp\u001b[0m\u001b[0;34m.\u001b[0m\u001b[0mrandom\u001b[0m\u001b[0;34m.\u001b[0m\u001b[0mrandint\u001b[0m\u001b[0;34m(\u001b[0m\u001b[0;36m0\u001b[0m\u001b[0;34m,\u001b[0m \u001b[0mnum_users\u001b[0m\u001b[0;34m)\u001b[0m\u001b[0;34m\u001b[0m\u001b[0;34m\u001b[0m\u001b[0m\n\u001b[0m\u001b[1;32m      3\u001b[0m \u001b[0;34m\u001b[0m\u001b[0m\n\u001b[1;32m      4\u001b[0m \u001b[0;31m# Use best model (say d=20 from alternating minimization)\u001b[0m\u001b[0;34m\u001b[0m\u001b[0;34m\u001b[0m\u001b[0m\n\u001b[1;32m      5\u001b[0m \u001b[0mU\u001b[0m\u001b[0;34m,\u001b[0m \u001b[0mV\u001b[0m \u001b[0;34m=\u001b[0m \u001b[0malternating_minimization\u001b[0m\u001b[0;34m(\u001b[0m\u001b[0mr_twiddle\u001b[0m\u001b[0;34m,\u001b[0m \u001b[0md\u001b[0m\u001b[0;34m=\u001b[0m\u001b[0;36m20\u001b[0m\u001b[0;34m,\u001b[0m \u001b[0ml\u001b[0m\u001b[0;34m=\u001b[0m\u001b[0;36m10.0\u001b[0m\u001b[0;34m,\u001b[0m \u001b[0mdelta\u001b[0m\u001b[0;34m=\u001b[0m\u001b[0;36m1e-2\u001b[0m\u001b[0;34m)\u001b[0m\u001b[0;34m\u001b[0m\u001b[0;34m\u001b[0m\u001b[0m\n",
            "\u001b[0;31mNameError\u001b[0m: name 'num_users' is not defined"
          ]
        }
      ]
    }
  ]
}
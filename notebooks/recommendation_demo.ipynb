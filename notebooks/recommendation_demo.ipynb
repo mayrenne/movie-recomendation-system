# 🎬 Movie Recommendation System Demo
# Matrix Completion with SVD and Alternating Minimization

import numpy as np
import matplotlib.pyplot as plt

from src.utils import load_movielens, mse
from src.svd_baseline import evaluate_svd
from src.matrix_factorization import alternating_minimization

#load data set
train, test, num_users, num_items = load_movielens("u.data")

print(f"Training samples: {len(train)}")
print(f"Test samples: {len(test)}")
print(f"Users: {num_users}, Movies: {num_items}")

# Build R~ matrix with known entries
r_twiddle = np.zeros((num_items, num_users))
for user, movie, rating in train:
    r_twiddle[movie, user] = rating

#baseline prediction
d_values = [1, 2, 5, 10, 20, 50]

train_errors, test_errors = evaluate_svd(r_twiddle, train, test, d_values)

plt.figure(figsize=(8,6))
plt.plot(d_values, train_errors, marker='o', label="Train MSE")
plt.plot(d_values, test_errors, marker='s', label="Test MSE")
plt.title("SVD Approximation Error vs Rank d")
plt.xlabel("Rank d")
plt.ylabel("Mean Squared Error")
plt.legend()
plt.grid(True)
plt.show()

#alternating minimization
train_errors_am, test_errors_am = [], []

for d in d_values:
    U, V = alternating_minimization(r_twiddle, d, l=10.0, delta=1e-2)
    R_hat = U @ V.T
    train_errors_am.append(mse(R_hat, train))
    test_errors_am.append(mse(R_hat, test))

plt.figure(figsize=(8,6))
plt.plot(d_values, train_errors_am, marker='o', label="Train MSE (AltMin)")
plt.plot(d_values, test_errors_am, marker='s', label="Test MSE (AltMin)")
plt.title("Alternating Minimization Error vs Rank d")
plt.xlabel("Rank d")
plt.ylabel("Mean Squared Error")
plt.legend()
plt.grid(True)
plt.show()

# example
user_id = np.random.randint(0, num_users)

# Use best model (say d=20 from alternating minimization)
U, V = alternating_minimization(r_twiddle, d=20, l=10.0, delta=1e-2)
R_hat = U @ V.T

# Predictions for chosen user
user_ratings = R_hat[:, user_id]

# Top recommended movies (ignoring already-rated ones)
rated_movies = set(train[train[:,0] == user_id][:,1])
recommendations = [(i, score) for i, score in enumerate(user_ratings) if i not in rated_movies]

top_recs = sorted(recommendations, key=lambda x: -x[1])[:5]
print(f"Top recommendations for User {user_id}:")
for movie_id, score in top_recs:
    print(f"Movie {movie_id} | Predicted rating: {score:.2f}")